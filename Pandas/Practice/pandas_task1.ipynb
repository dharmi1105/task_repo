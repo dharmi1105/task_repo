{
 "cells": [
  {
   "cell_type": "code",
   "execution_count": 24,
   "metadata": {},
   "outputs": [],
   "source": [
    "import pandas as pd"
   ]
  },
  {
   "cell_type": "markdown",
   "metadata": {},
   "source": [
    "# create dataframe"
   ]
  },
  {
   "cell_type": "code",
   "execution_count": 25,
   "metadata": {},
   "outputs": [],
   "source": [
    "data = {\n",
    "    'Name': ['Amy','Rambo','Pilea','Singa','David','Dambo','Yuva'],\n",
    "    'Age': [23,24,42,35,45,46,56,],\n",
    "    'Score': [34,45,54,65,74,67,85],\n",
    "    'Gender':['F','M','F','M','M','M','M']\n",
    "}\n",
    "df1 = pd.DataFrame(data = data)\n",
    "row_labels = [101,102,103,104,105,106,107]"
   ]
  },
  {
   "cell_type": "code",
   "execution_count": 26,
   "metadata": {},
   "outputs": [
    {
     "data": {
      "text/html": [
       "<div>\n",
       "<style scoped>\n",
       "    .dataframe tbody tr th:only-of-type {\n",
       "        vertical-align: middle;\n",
       "    }\n",
       "\n",
       "    .dataframe tbody tr th {\n",
       "        vertical-align: top;\n",
       "    }\n",
       "\n",
       "    .dataframe thead th {\n",
       "        text-align: right;\n",
       "    }\n",
       "</style>\n",
       "<table border=\"1\" class=\"dataframe\">\n",
       "  <thead>\n",
       "    <tr style=\"text-align: right;\">\n",
       "      <th></th>\n",
       "      <th>Name</th>\n",
       "      <th>Age</th>\n",
       "      <th>Score</th>\n",
       "      <th>Gender</th>\n",
       "    </tr>\n",
       "  </thead>\n",
       "  <tbody>\n",
       "    <tr>\n",
       "      <th>0</th>\n",
       "      <td>Amy</td>\n",
       "      <td>23</td>\n",
       "      <td>34</td>\n",
       "      <td>F</td>\n",
       "    </tr>\n",
       "    <tr>\n",
       "      <th>1</th>\n",
       "      <td>Rambo</td>\n",
       "      <td>24</td>\n",
       "      <td>45</td>\n",
       "      <td>M</td>\n",
       "    </tr>\n",
       "    <tr>\n",
       "      <th>2</th>\n",
       "      <td>Pilea</td>\n",
       "      <td>42</td>\n",
       "      <td>54</td>\n",
       "      <td>F</td>\n",
       "    </tr>\n",
       "    <tr>\n",
       "      <th>3</th>\n",
       "      <td>Singa</td>\n",
       "      <td>35</td>\n",
       "      <td>65</td>\n",
       "      <td>M</td>\n",
       "    </tr>\n",
       "    <tr>\n",
       "      <th>4</th>\n",
       "      <td>David</td>\n",
       "      <td>45</td>\n",
       "      <td>74</td>\n",
       "      <td>M</td>\n",
       "    </tr>\n",
       "    <tr>\n",
       "      <th>5</th>\n",
       "      <td>Dambo</td>\n",
       "      <td>46</td>\n",
       "      <td>67</td>\n",
       "      <td>M</td>\n",
       "    </tr>\n",
       "    <tr>\n",
       "      <th>6</th>\n",
       "      <td>Yuva</td>\n",
       "      <td>56</td>\n",
       "      <td>85</td>\n",
       "      <td>M</td>\n",
       "    </tr>\n",
       "  </tbody>\n",
       "</table>\n",
       "</div>"
      ],
      "text/plain": [
       "    Name  Age  Score Gender\n",
       "0    Amy   23     34      F\n",
       "1  Rambo   24     45      M\n",
       "2  Pilea   42     54      F\n",
       "3  Singa   35     65      M\n",
       "4  David   45     74      M\n",
       "5  Dambo   46     67      M\n",
       "6   Yuva   56     85      M"
      ]
     },
     "execution_count": 26,
     "metadata": {},
     "output_type": "execute_result"
    }
   ],
   "source": [
    "df1"
   ]
  },
  {
   "cell_type": "code",
   "execution_count": 27,
   "metadata": {},
   "outputs": [
    {
     "data": {
      "text/plain": [
       "'[{\"Name\":\"Amy\",\"Age\":23,\"Score\":34,\"Gender\":\"F\"},{\"Name\":\"Rambo\",\"Age\":24,\"Score\":45,\"Gender\":\"M\"},{\"Name\":\"Pilea\",\"Age\":42,\"Score\":54,\"Gender\":\"F\"},{\"Name\":\"Singa\",\"Age\":35,\"Score\":65,\"Gender\":\"M\"},{\"Name\":\"David\",\"Age\":45,\"Score\":74,\"Gender\":\"M\"},{\"Name\":\"Dambo\",\"Age\":46,\"Score\":67,\"Gender\":\"M\"},{\"Name\":\"Yuva\",\"Age\":56,\"Score\":85,\"Gender\":\"M\"}]'"
      ]
     },
     "execution_count": 27,
     "metadata": {},
     "output_type": "execute_result"
    }
   ],
   "source": [
    "result = df1.to_json(orient ='records')\n",
    "result"
   ]
  },
  {
   "cell_type": "code",
   "execution_count": 28,
   "metadata": {},
   "outputs": [
    {
     "data": {
      "text/plain": [
       "0     529\n",
       "1     576\n",
       "2    1764\n",
       "3    1225\n",
       "4    2025\n",
       "5    2116\n",
       "6    3136\n",
       "Name: square_age, dtype: int64"
      ]
     },
     "execution_count": 28,
     "metadata": {},
     "output_type": "execute_result"
    }
   ],
   "source": [
    "df1['square_age'] = df1['Age'].apply(lambda x:x**2)\n",
    "result = df1['square_age']\n",
    "result"
   ]
  }
 ],
 "metadata": {
  "kernelspec": {
   "display_name": "test_venv",
   "language": "python",
   "name": "python3"
  },
  "language_info": {
   "codemirror_mode": {
    "name": "ipython",
    "version": 3
   },
   "file_extension": ".py",
   "mimetype": "text/x-python",
   "name": "python",
   "nbconvert_exporter": "python",
   "pygments_lexer": "ipython3",
   "version": "3.12.7"
  }
 },
 "nbformat": 4,
 "nbformat_minor": 2
}
